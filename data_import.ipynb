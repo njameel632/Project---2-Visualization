{
 "cells": [
  {
   "cell_type": "code",
   "execution_count": 1,
   "metadata": {},
   "outputs": [
    {
     "name": "stdout",
     "output_type": "stream",
     "text": [
      "Requirement already satisfied: psycopg2 in c:\\users\\owner\\anaconda3\\lib\\site-packages (2.8.4)\n"
     ]
    }
   ],
   "source": [
    "import pandas as pd\n",
    "# import numpy as np\n",
    "import csv\n",
    "# import matplotlib.pyplot as plt\n",
    "# import seaborn as sns\n",
    "# sns.set()\n",
    "from sqlalchemy import create_engine\n",
    "\n",
    "# from sqlalchemy.ext.declarative import declarative_base\n",
    "# Base = declarative_base()\n",
    "# from sqlalchemy import Column, Integer, String, Float\n",
    "from sqlalchemy import create_engine\n",
    "!pip install psycopg2"
   ]
  },
  {
   "cell_type": "markdown",
   "metadata": {},
   "source": [
    "## Energy Data Manipulation"
   ]
  },
  {
   "cell_type": "code",
   "execution_count": 2,
   "metadata": {},
   "outputs": [
    {
     "data": {
      "text/html": [
       "<div>\n",
       "<style scoped>\n",
       "    .dataframe tbody tr th:only-of-type {\n",
       "        vertical-align: middle;\n",
       "    }\n",
       "\n",
       "    .dataframe tbody tr th {\n",
       "        vertical-align: top;\n",
       "    }\n",
       "\n",
       "    .dataframe thead th {\n",
       "        text-align: right;\n",
       "    }\n",
       "</style>\n",
       "<table border=\"1\" class=\"dataframe\">\n",
       "  <thead>\n",
       "    <tr style=\"text-align: right;\">\n",
       "      <th></th>\n",
       "      <th>YEAR</th>\n",
       "      <th>STATE_id</th>\n",
       "      <th>TYPE OF PRODUCER</th>\n",
       "      <th>ENERGY SOURCE</th>\n",
       "      <th>GENERATION (Megawatthours)</th>\n",
       "    </tr>\n",
       "  </thead>\n",
       "  <tbody>\n",
       "    <tr>\n",
       "      <td>0</td>\n",
       "      <td>1990</td>\n",
       "      <td>AK</td>\n",
       "      <td>Total Electric Power Industry</td>\n",
       "      <td>Total</td>\n",
       "      <td>5599506</td>\n",
       "    </tr>\n",
       "    <tr>\n",
       "      <td>1</td>\n",
       "      <td>1990</td>\n",
       "      <td>AK</td>\n",
       "      <td>Total Electric Power Industry</td>\n",
       "      <td>Coal</td>\n",
       "      <td>510573</td>\n",
       "    </tr>\n",
       "    <tr>\n",
       "      <td>2</td>\n",
       "      <td>1990</td>\n",
       "      <td>AK</td>\n",
       "      <td>Total Electric Power Industry</td>\n",
       "      <td>Hydroelectric Conventional</td>\n",
       "      <td>974521</td>\n",
       "    </tr>\n",
       "    <tr>\n",
       "      <td>3</td>\n",
       "      <td>1990</td>\n",
       "      <td>AK</td>\n",
       "      <td>Total Electric Power Industry</td>\n",
       "      <td>Natural Gas</td>\n",
       "      <td>3466261</td>\n",
       "    </tr>\n",
       "    <tr>\n",
       "      <td>4</td>\n",
       "      <td>1990</td>\n",
       "      <td>AK</td>\n",
       "      <td>Total Electric Power Industry</td>\n",
       "      <td>Petroleum</td>\n",
       "      <td>497116</td>\n",
       "    </tr>\n",
       "  </tbody>\n",
       "</table>\n",
       "</div>"
      ],
      "text/plain": [
       "   YEAR STATE_id               TYPE OF PRODUCER               ENERGY SOURCE  \\\n",
       "0  1990       AK  Total Electric Power Industry                       Total   \n",
       "1  1990       AK  Total Electric Power Industry                        Coal   \n",
       "2  1990       AK  Total Electric Power Industry  Hydroelectric Conventional   \n",
       "3  1990       AK  Total Electric Power Industry                 Natural Gas   \n",
       "4  1990       AK  Total Electric Power Industry                   Petroleum   \n",
       "\n",
       "   GENERATION (Megawatthours)  \n",
       "0                     5599506  \n",
       "1                      510573  \n",
       "2                      974521  \n",
       "3                     3466261  \n",
       "4                      497116  "
      ]
     },
     "execution_count": 2,
     "metadata": {},
     "output_type": "execute_result"
    }
   ],
   "source": [
    "energy_data = pd.read_csv('Data/annual_generation_state.csv')\n",
    "energy_data.head()"
   ]
  },
  {
   "cell_type": "code",
   "execution_count": 3,
   "metadata": {},
   "outputs": [
    {
     "data": {
      "text/plain": [
       "array(['AK', 'AL', 'AR', 'AZ', 'CA', 'CO', 'CT', 'D.C', 'DE', 'FL', 'GA',\n",
       "       'HI', 'IA', 'ID', 'IL', 'IN', 'KS', 'KY', 'LA', 'MA', 'MD', 'ME',\n",
       "       'MI', 'MN', 'MO', 'MS', 'MT', 'NC', 'ND', 'NE', 'NH', 'NJ', 'NM',\n",
       "       'NV', 'NY', 'OH', 'OK', 'OR', 'PA', 'RI', 'SC', 'SD', 'TN', 'TX',\n",
       "       'US-TOTAL', 'UT', 'VA', 'VT', 'WA', 'WI', 'WV', 'WY', 'DC', '  ',\n",
       "       'US-Total'], dtype=object)"
      ]
     },
     "execution_count": 3,
     "metadata": {},
     "output_type": "execute_result"
    }
   ],
   "source": [
    "energy_data['STATE_id'].unique()"
   ]
  },
  {
   "cell_type": "code",
   "execution_count": 4,
   "metadata": {},
   "outputs": [
    {
     "data": {
      "text/html": [
       "<div>\n",
       "<style scoped>\n",
       "    .dataframe tbody tr th:only-of-type {\n",
       "        vertical-align: middle;\n",
       "    }\n",
       "\n",
       "    .dataframe tbody tr th {\n",
       "        vertical-align: top;\n",
       "    }\n",
       "\n",
       "    .dataframe thead th {\n",
       "        text-align: right;\n",
       "    }\n",
       "</style>\n",
       "<table border=\"1\" class=\"dataframe\">\n",
       "  <thead>\n",
       "    <tr style=\"text-align: right;\">\n",
       "      <th></th>\n",
       "      <th>YEAR</th>\n",
       "      <th>STATE_id</th>\n",
       "      <th>TYPE OF PRODUCER</th>\n",
       "      <th>ENERGY SOURCE</th>\n",
       "      <th>GENERATION (Megawatthours)</th>\n",
       "    </tr>\n",
       "  </thead>\n",
       "  <tbody>\n",
       "    <tr>\n",
       "      <td>1</td>\n",
       "      <td>1990</td>\n",
       "      <td>AK</td>\n",
       "      <td>Total Electric Power Industry</td>\n",
       "      <td>Coal</td>\n",
       "      <td>510573</td>\n",
       "    </tr>\n",
       "    <tr>\n",
       "      <td>2</td>\n",
       "      <td>1990</td>\n",
       "      <td>AK</td>\n",
       "      <td>Total Electric Power Industry</td>\n",
       "      <td>Hydroelectric Conventional</td>\n",
       "      <td>974521</td>\n",
       "    </tr>\n",
       "    <tr>\n",
       "      <td>3</td>\n",
       "      <td>1990</td>\n",
       "      <td>AK</td>\n",
       "      <td>Total Electric Power Industry</td>\n",
       "      <td>Natural Gas</td>\n",
       "      <td>3466261</td>\n",
       "    </tr>\n",
       "    <tr>\n",
       "      <td>4</td>\n",
       "      <td>1990</td>\n",
       "      <td>AK</td>\n",
       "      <td>Total Electric Power Industry</td>\n",
       "      <td>Petroleum</td>\n",
       "      <td>497116</td>\n",
       "    </tr>\n",
       "    <tr>\n",
       "      <td>5</td>\n",
       "      <td>1990</td>\n",
       "      <td>AK</td>\n",
       "      <td>Total Electric Power Industry</td>\n",
       "      <td>Wind</td>\n",
       "      <td>0</td>\n",
       "    </tr>\n",
       "  </tbody>\n",
       "</table>\n",
       "</div>"
      ],
      "text/plain": [
       "   YEAR STATE_id               TYPE OF PRODUCER               ENERGY SOURCE  \\\n",
       "1  1990       AK  Total Electric Power Industry                        Coal   \n",
       "2  1990       AK  Total Electric Power Industry  Hydroelectric Conventional   \n",
       "3  1990       AK  Total Electric Power Industry                 Natural Gas   \n",
       "4  1990       AK  Total Electric Power Industry                   Petroleum   \n",
       "5  1990       AK  Total Electric Power Industry                        Wind   \n",
       "\n",
       "   GENERATION (Megawatthours)  \n",
       "1                      510573  \n",
       "2                      974521  \n",
       "3                     3466261  \n",
       "4                      497116  \n",
       "5                           0  "
      ]
     },
     "execution_count": 4,
     "metadata": {},
     "output_type": "execute_result"
    }
   ],
   "source": [
    "## Dropping Unwanted columns and rows\n",
    "energy_data = energy_data.loc[energy_data['ENERGY SOURCE'] != 'Total']\n",
    "# energy_data = energy_data.loc[energy_data['GENERATION (Megawatthours)'] != 0]\n",
    "energy_data = energy_data.loc[energy_data['STATE_id'] != 'US-TOTAL']\n",
    "energy_data = energy_data.loc[energy_data['STATE_id'] != 'US-Total']\n",
    "\n",
    "energy_data.head()"
   ]
  },
  {
   "cell_type": "code",
   "execution_count": 5,
   "metadata": {},
   "outputs": [
    {
     "data": {
      "text/plain": [
       "array(['Coal', 'Hydroelectric Conventional', 'Natural Gas', 'Petroleum',\n",
       "       'Wind', 'Wood and Wood Derived Fuels', 'Nuclear', 'Other Biomass',\n",
       "       'Other Gases', 'Pumped Storage', 'Geothermal', 'Other',\n",
       "       'Solar Thermal and Photovoltaic'], dtype=object)"
      ]
     },
     "execution_count": 5,
     "metadata": {},
     "output_type": "execute_result"
    }
   ],
   "source": [
    "energy_data['ENERGY SOURCE'].unique()"
   ]
  },
  {
   "cell_type": "code",
   "execution_count": 6,
   "metadata": {},
   "outputs": [
    {
     "data": {
      "text/html": [
       "<div>\n",
       "<style scoped>\n",
       "    .dataframe tbody tr th:only-of-type {\n",
       "        vertical-align: middle;\n",
       "    }\n",
       "\n",
       "    .dataframe tbody tr th {\n",
       "        vertical-align: top;\n",
       "    }\n",
       "\n",
       "    .dataframe thead th {\n",
       "        text-align: right;\n",
       "    }\n",
       "</style>\n",
       "<table border=\"1\" class=\"dataframe\">\n",
       "  <thead>\n",
       "    <tr style=\"text-align: right;\">\n",
       "      <th></th>\n",
       "      <th>YEAR</th>\n",
       "      <th>STATE_id</th>\n",
       "      <th>TYPE OF PRODUCER</th>\n",
       "      <th>ENERGY SOURCE</th>\n",
       "      <th>GENERATION (Megawatthours)</th>\n",
       "      <th>ENERGY TYPE</th>\n",
       "    </tr>\n",
       "  </thead>\n",
       "  <tbody>\n",
       "    <tr>\n",
       "      <td>1</td>\n",
       "      <td>1990</td>\n",
       "      <td>AK</td>\n",
       "      <td>Total Electric Power Industry</td>\n",
       "      <td>Coal</td>\n",
       "      <td>510573</td>\n",
       "      <td>Conventional</td>\n",
       "    </tr>\n",
       "    <tr>\n",
       "      <td>2</td>\n",
       "      <td>1990</td>\n",
       "      <td>AK</td>\n",
       "      <td>Total Electric Power Industry</td>\n",
       "      <td>Hydroelectric Conventional</td>\n",
       "      <td>974521</td>\n",
       "      <td>Green Energy</td>\n",
       "    </tr>\n",
       "    <tr>\n",
       "      <td>3</td>\n",
       "      <td>1990</td>\n",
       "      <td>AK</td>\n",
       "      <td>Total Electric Power Industry</td>\n",
       "      <td>Natural Gas</td>\n",
       "      <td>3466261</td>\n",
       "      <td>Conventional</td>\n",
       "    </tr>\n",
       "    <tr>\n",
       "      <td>4</td>\n",
       "      <td>1990</td>\n",
       "      <td>AK</td>\n",
       "      <td>Total Electric Power Industry</td>\n",
       "      <td>Petroleum</td>\n",
       "      <td>497116</td>\n",
       "      <td>Conventional</td>\n",
       "    </tr>\n",
       "    <tr>\n",
       "      <td>5</td>\n",
       "      <td>1990</td>\n",
       "      <td>AK</td>\n",
       "      <td>Total Electric Power Industry</td>\n",
       "      <td>Wind</td>\n",
       "      <td>0</td>\n",
       "      <td>Green Energy</td>\n",
       "    </tr>\n",
       "  </tbody>\n",
       "</table>\n",
       "</div>"
      ],
      "text/plain": [
       "   YEAR STATE_id               TYPE OF PRODUCER               ENERGY SOURCE  \\\n",
       "1  1990       AK  Total Electric Power Industry                        Coal   \n",
       "2  1990       AK  Total Electric Power Industry  Hydroelectric Conventional   \n",
       "3  1990       AK  Total Electric Power Industry                 Natural Gas   \n",
       "4  1990       AK  Total Electric Power Industry                   Petroleum   \n",
       "5  1990       AK  Total Electric Power Industry                        Wind   \n",
       "\n",
       "   GENERATION (Megawatthours)   ENERGY TYPE  \n",
       "1                      510573  Conventional  \n",
       "2                      974521  Green Energy  \n",
       "3                     3466261  Conventional  \n",
       "4                      497116  Conventional  \n",
       "5                           0  Green Energy  "
      ]
     },
     "execution_count": 6,
     "metadata": {},
     "output_type": "execute_result"
    }
   ],
   "source": [
    "## Grouping Into Conventional  & Green Energy Sources\n",
    "\n",
    "def energy_label(row):\n",
    "    if row['ENERGY SOURCE']=='Natural Gas':\n",
    "        return 'Conventional'\n",
    "    elif row['ENERGY SOURCE']=='Petroleum':\n",
    "        return 'Conventional'\n",
    "    elif row['ENERGY SOURCE']=='Coal':\n",
    "        return 'Conventional'\n",
    "    elif  row['ENERGY SOURCE']=='Other Biomass':\n",
    "        return 'Conventional'\n",
    "    elif  row['ENERGY SOURCE']=='Hydroelectric Conventional':\n",
    "        return 'Green Energy'\n",
    "    elif row['ENERGY SOURCE']=='Wood and Wood Derived Fuels':\n",
    "        return 'Conventional'\n",
    "    elif row['ENERGY SOURCE']=='Other':\n",
    "        return 'N/A'\n",
    "    elif row['ENERGY SOURCE']=='Wind':\n",
    "        return 'Green Energy'\n",
    "    elif row['ENERGY SOURCE']=='Nuclear':\n",
    "        return 'Green Energy'\n",
    "    elif row['ENERGY SOURCE']=='Solar Thermal and Photovoltaic':\n",
    "        return 'Green Energy'\n",
    "    elif row['ENERGY SOURCE']=='Pumped Storage':\n",
    "        return 'Green Energy'\n",
    "    elif row['ENERGY SOURCE']=='Geothermal':\n",
    "        return 'Green Energy'\n",
    "    else:\n",
    "        return 'N/A'\n",
    "    \n",
    "energy_data['ENERGY TYPE'] = energy_data.apply (lambda row: energy_label(row), axis=1)\n",
    "energy_data.head()\n",
    "\n",
    "\n",
    "# energy_data['ENERGY TYPE'] = energy_data['ENERGY SOURCE']({'Natural Gas':'Conventional',\\\n",
    "#                                                            'Petroleum':'Conventional',\\\n",
    "#                                                            'Coal':'Conventional',\\\n",
    "#                                                            'Other Biomass':'Green Energy',\\\n",
    "#                                                            'Hydroelectric Conventional':'Green Energy',\\\n",
    "#                                                            'Wood and Wood Derived Fuels':'Green Energy',\\\n",
    "#                                                            'Other':'Conventional',\\\n",
    "#                                                            'Other Gases':'Conventional',\\\n",
    "#                                                            'Wind':'Green Energy',\\\n",
    "#                                                            'Nuclear':'Green Energy',\\\n",
    "#                                                            'Solar Thermal and Photovoltaic':'Green Energy',\\\n",
    "#                                                            'Pumped Storage':'Green Energy',\\\n",
    "#                                                            'Geothermal':'Green Energy'})"
   ]
  },
  {
   "cell_type": "markdown",
   "metadata": {},
   "source": [
    "## GroupBy for Sum (Double Bar)\n",
    "Saving for post-SQL"
   ]
  },
  {
   "cell_type": "code",
   "execution_count": 7,
   "metadata": {},
   "outputs": [],
   "source": [
    "# ## Summing Up Conventional & Green Energy Produced by each state per year, from 1990-2018\n",
    "# ## Dropping the Type of Producer Column\n",
    "\n",
    "# energy_produced = energy_data[['STATE_id','YEAR','ENERGY TYPE','GENERATION (Megawatthours)']]\n",
    "# energy_produced = energy_produced.groupby(['YEAR','STATE_id','ENERGY TYPE']).sum()['GENERATION (Megawatthours)']"
   ]
  },
  {
   "cell_type": "code",
   "execution_count": 8,
   "metadata": {},
   "outputs": [
    {
     "data": {
      "text/html": [
       "<div>\n",
       "<style scoped>\n",
       "    .dataframe tbody tr th:only-of-type {\n",
       "        vertical-align: middle;\n",
       "    }\n",
       "\n",
       "    .dataframe tbody tr th {\n",
       "        vertical-align: top;\n",
       "    }\n",
       "\n",
       "    .dataframe thead th {\n",
       "        text-align: right;\n",
       "    }\n",
       "</style>\n",
       "<table border=\"1\" class=\"dataframe\">\n",
       "  <thead>\n",
       "    <tr style=\"text-align: right;\">\n",
       "      <th></th>\n",
       "      <th>YEAR</th>\n",
       "      <th>STATE_id</th>\n",
       "      <th>TYPE OF PRODUCER</th>\n",
       "      <th>ENERGY SOURCE</th>\n",
       "      <th>GENERATION (Megawatthours)</th>\n",
       "      <th>ENERGY TYPE</th>\n",
       "    </tr>\n",
       "  </thead>\n",
       "  <tbody>\n",
       "    <tr>\n",
       "      <td>1</td>\n",
       "      <td>1990</td>\n",
       "      <td>AK</td>\n",
       "      <td>Total Electric Power Industry</td>\n",
       "      <td>Coal</td>\n",
       "      <td>510573</td>\n",
       "      <td>Conventional</td>\n",
       "    </tr>\n",
       "    <tr>\n",
       "      <td>2</td>\n",
       "      <td>1990</td>\n",
       "      <td>AK</td>\n",
       "      <td>Total Electric Power Industry</td>\n",
       "      <td>Hydroelectric Conventional</td>\n",
       "      <td>974521</td>\n",
       "      <td>Green Energy</td>\n",
       "    </tr>\n",
       "    <tr>\n",
       "      <td>3</td>\n",
       "      <td>1990</td>\n",
       "      <td>AK</td>\n",
       "      <td>Total Electric Power Industry</td>\n",
       "      <td>Natural Gas</td>\n",
       "      <td>3466261</td>\n",
       "      <td>Conventional</td>\n",
       "    </tr>\n",
       "    <tr>\n",
       "      <td>4</td>\n",
       "      <td>1990</td>\n",
       "      <td>AK</td>\n",
       "      <td>Total Electric Power Industry</td>\n",
       "      <td>Petroleum</td>\n",
       "      <td>497116</td>\n",
       "      <td>Conventional</td>\n",
       "    </tr>\n",
       "    <tr>\n",
       "      <td>5</td>\n",
       "      <td>1990</td>\n",
       "      <td>AK</td>\n",
       "      <td>Total Electric Power Industry</td>\n",
       "      <td>Wind</td>\n",
       "      <td>0</td>\n",
       "      <td>Green Energy</td>\n",
       "    </tr>\n",
       "  </tbody>\n",
       "</table>\n",
       "</div>"
      ],
      "text/plain": [
       "   YEAR STATE_id               TYPE OF PRODUCER               ENERGY SOURCE  \\\n",
       "1  1990       AK  Total Electric Power Industry                        Coal   \n",
       "2  1990       AK  Total Electric Power Industry  Hydroelectric Conventional   \n",
       "3  1990       AK  Total Electric Power Industry                 Natural Gas   \n",
       "4  1990       AK  Total Electric Power Industry                   Petroleum   \n",
       "5  1990       AK  Total Electric Power Industry                        Wind   \n",
       "\n",
       "   GENERATION (Megawatthours)   ENERGY TYPE  \n",
       "1                      510573  Conventional  \n",
       "2                      974521  Green Energy  \n",
       "3                     3466261  Conventional  \n",
       "4                      497116  Conventional  \n",
       "5                           0  Green Energy  "
      ]
     },
     "execution_count": 8,
     "metadata": {},
     "output_type": "execute_result"
    }
   ],
   "source": [
    "# energy_produced = pd.DataFrame(energy_produced)\n",
    "# energy_produced['GENERATION (Megawatthours)'] = energy_produced['GENERATION (Megawatthours)'].astype(int).map(\"{:,}\".format)\n",
    "energy_data.head()"
   ]
  },
  {
   "cell_type": "code",
   "execution_count": 9,
   "metadata": {},
   "outputs": [
    {
     "data": {
      "text/plain": [
       "year_energy                  int64\n",
       "STATE_id                    object\n",
       "Type_of_producer            object\n",
       "energy_source               object\n",
       "generation_megewatthours     int64\n",
       "energy_type                 object\n",
       "dtype: object"
      ]
     },
     "execution_count": 9,
     "metadata": {},
     "output_type": "execute_result"
    }
   ],
   "source": [
    "energy_data.dtypes\n",
    "energy_data = energy_data.rename(columns={'YEAR':'year_energy','TYPE OF PRODUCER':'Type_of_producer','ENERGY SOURCE':\n",
    "                                         'energy_source','GENERATION (Megawatthours)':'generation_megewatthours',\n",
    "                                         'ENERGY TYPE':'energy_type'})\n",
    "energy_data.dtypes"
   ]
  },
  {
   "cell_type": "markdown",
   "metadata": {},
   "source": [
    "## Income Data Manipulation"
   ]
  },
  {
   "cell_type": "code",
   "execution_count": 10,
   "metadata": {},
   "outputs": [
    {
     "data": {
      "text/html": [
       "<div>\n",
       "<style scoped>\n",
       "    .dataframe tbody tr th:only-of-type {\n",
       "        vertical-align: middle;\n",
       "    }\n",
       "\n",
       "    .dataframe tbody tr th {\n",
       "        vertical-align: top;\n",
       "    }\n",
       "\n",
       "    .dataframe thead th {\n",
       "        text-align: right;\n",
       "    }\n",
       "</style>\n",
       "<table border=\"1\" class=\"dataframe\">\n",
       "  <thead>\n",
       "    <tr style=\"text-align: right;\">\n",
       "      <th></th>\n",
       "      <th>YEAR</th>\n",
       "      <th>STATE</th>\n",
       "      <th>STATE_id</th>\n",
       "      <th>Median_Income</th>\n",
       "    </tr>\n",
       "  </thead>\n",
       "  <tbody>\n",
       "    <tr>\n",
       "      <td>0</td>\n",
       "      <td>1990</td>\n",
       "      <td>Alaska</td>\n",
       "      <td>AK</td>\n",
       "      <td>42607</td>\n",
       "    </tr>\n",
       "    <tr>\n",
       "      <td>1</td>\n",
       "      <td>1990</td>\n",
       "      <td>Arizona</td>\n",
       "      <td>AL</td>\n",
       "      <td>71686</td>\n",
       "    </tr>\n",
       "    <tr>\n",
       "      <td>2</td>\n",
       "      <td>1990</td>\n",
       "      <td>Arizona</td>\n",
       "      <td>AZ</td>\n",
       "      <td>53309</td>\n",
       "    </tr>\n",
       "    <tr>\n",
       "      <td>3</td>\n",
       "      <td>1990</td>\n",
       "      <td>Arkansas</td>\n",
       "      <td>AR</td>\n",
       "      <td>41565</td>\n",
       "    </tr>\n",
       "    <tr>\n",
       "      <td>4</td>\n",
       "      <td>1990</td>\n",
       "      <td>California</td>\n",
       "      <td>CA</td>\n",
       "      <td>60726</td>\n",
       "    </tr>\n",
       "  </tbody>\n",
       "</table>\n",
       "</div>"
      ],
      "text/plain": [
       "   YEAR       STATE STATE_id  Median_Income\n",
       "0  1990      Alaska       AK          42607\n",
       "1  1990     Arizona       AL          71686\n",
       "2  1990     Arizona       AZ          53309\n",
       "3  1990    Arkansas       AR          41565\n",
       "4  1990  California       CA          60726"
      ]
     },
     "execution_count": 10,
     "metadata": {},
     "output_type": "execute_result"
    }
   ],
   "source": [
    "income_data = pd.read_csv('Data/Median_Income_state-1990.csv')\n",
    "income_data.head()"
   ]
  },
  {
   "cell_type": "code",
   "execution_count": 11,
   "metadata": {},
   "outputs": [
    {
     "data": {
      "text/plain": [
       "year_income       int64\n",
       "State_income     object\n",
       "STATE_id         object\n",
       "Median_Income     int64\n",
       "dtype: object"
      ]
     },
     "execution_count": 11,
     "metadata": {},
     "output_type": "execute_result"
    }
   ],
   "source": [
    "# income_data['Median_Income'] = income_data['Median_Income'].astype(int).map(\"{:,}\".format)\n",
    "# income_data.head()\n",
    "income_data.dtypes\n",
    "\n",
    "income_data = income_data.rename(columns={'YEAR':'year_income','STATE':'State_income'})\n",
    "income_data.dtypes"
   ]
  },
  {
   "cell_type": "markdown",
   "metadata": {},
   "source": [
    "## Population Data Manipulation"
   ]
  },
  {
   "cell_type": "code",
   "execution_count": 12,
   "metadata": {},
   "outputs": [
    {
     "data": {
      "text/html": [
       "<div>\n",
       "<style scoped>\n",
       "    .dataframe tbody tr th:only-of-type {\n",
       "        vertical-align: middle;\n",
       "    }\n",
       "\n",
       "    .dataframe tbody tr th {\n",
       "        vertical-align: top;\n",
       "    }\n",
       "\n",
       "    .dataframe thead th {\n",
       "        text-align: right;\n",
       "    }\n",
       "</style>\n",
       "<table border=\"1\" class=\"dataframe\">\n",
       "  <thead>\n",
       "    <tr style=\"text-align: right;\">\n",
       "      <th></th>\n",
       "      <th>Unnamed: 0</th>\n",
       "      <th>YEAR</th>\n",
       "      <th>STATE_id</th>\n",
       "      <th>STATE</th>\n",
       "      <th>Population</th>\n",
       "    </tr>\n",
       "  </thead>\n",
       "  <tbody>\n",
       "    <tr>\n",
       "      <td>0</td>\n",
       "      <td>0</td>\n",
       "      <td>1990</td>\n",
       "      <td>AL</td>\n",
       "      <td>Alabama</td>\n",
       "      <td>4,050,055</td>\n",
       "    </tr>\n",
       "    <tr>\n",
       "      <td>1</td>\n",
       "      <td>1</td>\n",
       "      <td>1991</td>\n",
       "      <td>AL</td>\n",
       "      <td>Alabama</td>\n",
       "      <td>4,099,156</td>\n",
       "    </tr>\n",
       "    <tr>\n",
       "      <td>2</td>\n",
       "      <td>2</td>\n",
       "      <td>1992</td>\n",
       "      <td>AL</td>\n",
       "      <td>Alabama</td>\n",
       "      <td>4,154,014</td>\n",
       "    </tr>\n",
       "    <tr>\n",
       "      <td>3</td>\n",
       "      <td>3</td>\n",
       "      <td>1993</td>\n",
       "      <td>AL</td>\n",
       "      <td>Alabama</td>\n",
       "      <td>4,214,202</td>\n",
       "    </tr>\n",
       "    <tr>\n",
       "      <td>4</td>\n",
       "      <td>4</td>\n",
       "      <td>1994</td>\n",
       "      <td>AL</td>\n",
       "      <td>Alabama</td>\n",
       "      <td>4,260,229</td>\n",
       "    </tr>\n",
       "  </tbody>\n",
       "</table>\n",
       "</div>"
      ],
      "text/plain": [
       "   Unnamed: 0  YEAR STATE_id    STATE Population\n",
       "0           0  1990       AL  Alabama  4,050,055\n",
       "1           1  1991       AL  Alabama  4,099,156\n",
       "2           2  1992       AL  Alabama  4,154,014\n",
       "3           3  1993       AL  Alabama  4,214,202\n",
       "4           4  1994       AL  Alabama  4,260,229"
      ]
     },
     "execution_count": 12,
     "metadata": {},
     "output_type": "execute_result"
    }
   ],
   "source": [
    "population_dirty = pd.read_csv('Data/Population_data.csv')\n",
    "population_dirty.head()"
   ]
  },
  {
   "cell_type": "code",
   "execution_count": 13,
   "metadata": {},
   "outputs": [
    {
     "data": {
      "text/html": [
       "<div>\n",
       "<style scoped>\n",
       "    .dataframe tbody tr th:only-of-type {\n",
       "        vertical-align: middle;\n",
       "    }\n",
       "\n",
       "    .dataframe tbody tr th {\n",
       "        vertical-align: top;\n",
       "    }\n",
       "\n",
       "    .dataframe thead th {\n",
       "        text-align: right;\n",
       "    }\n",
       "</style>\n",
       "<table border=\"1\" class=\"dataframe\">\n",
       "  <thead>\n",
       "    <tr style=\"text-align: right;\">\n",
       "      <th></th>\n",
       "      <th>Unnamed: 0</th>\n",
       "      <th>YEAR</th>\n",
       "      <th>STATE_id</th>\n",
       "      <th>STATE</th>\n",
       "      <th>Population</th>\n",
       "      <th>POPULATION</th>\n",
       "    </tr>\n",
       "  </thead>\n",
       "  <tbody>\n",
       "    <tr>\n",
       "      <td>0</td>\n",
       "      <td>0</td>\n",
       "      <td>1990</td>\n",
       "      <td>AL</td>\n",
       "      <td>Alabama</td>\n",
       "      <td>4,050,055</td>\n",
       "      <td>4050055</td>\n",
       "    </tr>\n",
       "    <tr>\n",
       "      <td>1</td>\n",
       "      <td>1</td>\n",
       "      <td>1991</td>\n",
       "      <td>AL</td>\n",
       "      <td>Alabama</td>\n",
       "      <td>4,099,156</td>\n",
       "      <td>4099156</td>\n",
       "    </tr>\n",
       "    <tr>\n",
       "      <td>2</td>\n",
       "      <td>2</td>\n",
       "      <td>1992</td>\n",
       "      <td>AL</td>\n",
       "      <td>Alabama</td>\n",
       "      <td>4,154,014</td>\n",
       "      <td>4154014</td>\n",
       "    </tr>\n",
       "    <tr>\n",
       "      <td>3</td>\n",
       "      <td>3</td>\n",
       "      <td>1993</td>\n",
       "      <td>AL</td>\n",
       "      <td>Alabama</td>\n",
       "      <td>4,214,202</td>\n",
       "      <td>4214202</td>\n",
       "    </tr>\n",
       "    <tr>\n",
       "      <td>4</td>\n",
       "      <td>4</td>\n",
       "      <td>1994</td>\n",
       "      <td>AL</td>\n",
       "      <td>Alabama</td>\n",
       "      <td>4,260,229</td>\n",
       "      <td>4260229</td>\n",
       "    </tr>\n",
       "  </tbody>\n",
       "</table>\n",
       "</div>"
      ],
      "text/plain": [
       "   Unnamed: 0  YEAR STATE_id    STATE Population  POPULATION\n",
       "0           0  1990       AL  Alabama  4,050,055     4050055\n",
       "1           1  1991       AL  Alabama  4,099,156     4099156\n",
       "2           2  1992       AL  Alabama  4,154,014     4154014\n",
       "3           3  1993       AL  Alabama  4,214,202     4214202\n",
       "4           4  1994       AL  Alabama  4,260,229     4260229"
      ]
     },
     "execution_count": 13,
     "metadata": {},
     "output_type": "execute_result"
    }
   ],
   "source": [
    "population_dirty['POPULATION'] = population_dirty['Population'].replace(',', '',regex=True)\n",
    "population_dirty['POPULATION'] = population_dirty['POPULATION'].astype('int64')\n",
    "population_dirty.head()"
   ]
  },
  {
   "cell_type": "code",
   "execution_count": 14,
   "metadata": {
    "scrolled": true
   },
   "outputs": [],
   "source": [
    "population_data = population_dirty[['YEAR','STATE_id','STATE','POPULATION']]\n",
    "\n",
    "population_data.dtypes\n",
    "population_data.head()\n",
    "population_data = population_data.rename(columns={'YEAR':'year_population','STATE':'state_population','POPULATION':'population'})\n",
    "##population_data.dtypes"
   ]
  },
  {
   "cell_type": "markdown",
   "metadata": {},
   "source": [
    "## Saves"
   ]
  },
  {
   "cell_type": "code",
   "execution_count": 15,
   "metadata": {},
   "outputs": [],
   "source": [
    " ## Saving All Updated Datasets as csv files\n",
    "\n",
    "energy_data.to_csv('Energy_data.csv')\n",
    "income_data.to_csv('Income_data.csv')\n",
    "population_data.to_csv('Population_data.csv')"
   ]
  },
  {
   "cell_type": "code",
   "execution_count": 23,
   "metadata": {},
   "outputs": [],
   "source": [
    "#Connect to local Database\n",
    "rds_connection_string = \"postgres:postgres@localhost:5432/test_db\"\n",
    "engine = create_engine(f'postgresql://{rds_connection_string}')"
   ]
  },
  {
   "cell_type": "code",
   "execution_count": 24,
   "metadata": {},
   "outputs": [
    {
     "data": {
      "text/plain": [
       "['energy_data', 'income_data', 'population_data']"
      ]
     },
     "execution_count": 24,
     "metadata": {},
     "output_type": "execute_result"
    }
   ],
   "source": [
    "engine.table_names()"
   ]
  },
  {
   "cell_type": "code",
   "execution_count": 27,
   "metadata": {},
   "outputs": [],
   "source": [
    "#Load Csv's into Database\n",
    "population_data.to_sql(name='population_data', con=engine, if_exists='append', index=False)\n",
    "\n",
    "income_data.to_sql(name='income_data', con=engine, if_exists='append', index=False)\n",
    "\n",
    "energy_data.to_sql(name='energy_data', con=engine, if_exists='append', index=False)"
   ]
  },
  {
   "cell_type": "code",
   "execution_count": null,
   "metadata": {},
   "outputs": [],
   "source": []
  }
 ],
 "metadata": {
  "kernelspec": {
   "display_name": "Python 3",
   "language": "python",
   "name": "python3"
  },
  "language_info": {
   "codemirror_mode": {
    "name": "ipython",
    "version": 3
   },
   "file_extension": ".py",
   "mimetype": "text/x-python",
   "name": "python",
   "nbconvert_exporter": "python",
   "pygments_lexer": "ipython3",
   "version": "3.7.4"
  }
 },
 "nbformat": 4,
 "nbformat_minor": 4
}
